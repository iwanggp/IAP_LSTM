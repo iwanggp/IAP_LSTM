{
 "cells": [
  {
   "cell_type": "markdown",
   "metadata": {},
   "source": [
    "### 通过LSTM来预测未来航班的乘客数"
   ]
  },
  {
   "cell_type": "code",
   "execution_count": 15,
   "metadata": {
    "collapsed": true
   },
   "outputs": [],
   "source": [
    "import numpy as np\n",
    "import pandas as pd"
   ]
  },
  {
   "cell_type": "markdown",
   "metadata": {},
   "source": [
    "#### 首先需要读数据这里只取乘客数"
   ]
  },
  {
   "cell_type": "code",
   "execution_count": 218,
   "metadata": {},
   "outputs": [],
   "source": [
    "dataframe=pd.read_csv('data/international-airline-passengers.csv',usecols=[1])"
   ]
  },
  {
   "cell_type": "code",
   "execution_count": 219,
   "metadata": {},
   "outputs": [
    {
     "data": {
      "text/html": [
       "<div>\n",
       "<style>\n",
       "    .dataframe thead tr:only-child th {\n",
       "        text-align: right;\n",
       "    }\n",
       "\n",
       "    .dataframe thead th {\n",
       "        text-align: left;\n",
       "    }\n",
       "\n",
       "    .dataframe tbody tr th {\n",
       "        vertical-align: top;\n",
       "    }\n",
       "</style>\n",
       "<table border=\"1\" class=\"dataframe\">\n",
       "  <thead>\n",
       "    <tr style=\"text-align: right;\">\n",
       "      <th></th>\n",
       "      <th>International airline passengers: monthly totals in thousands. Jan 49 ? Dec 60</th>\n",
       "    </tr>\n",
       "  </thead>\n",
       "  <tbody>\n",
       "    <tr>\n",
       "      <th>0</th>\n",
       "      <td>112</td>\n",
       "    </tr>\n",
       "    <tr>\n",
       "      <th>1</th>\n",
       "      <td>118</td>\n",
       "    </tr>\n",
       "    <tr>\n",
       "      <th>2</th>\n",
       "      <td>132</td>\n",
       "    </tr>\n",
       "    <tr>\n",
       "      <th>3</th>\n",
       "      <td>129</td>\n",
       "    </tr>\n",
       "    <tr>\n",
       "      <th>4</th>\n",
       "      <td>121</td>\n",
       "    </tr>\n",
       "    <tr>\n",
       "      <th>5</th>\n",
       "      <td>135</td>\n",
       "    </tr>\n",
       "    <tr>\n",
       "      <th>6</th>\n",
       "      <td>148</td>\n",
       "    </tr>\n",
       "    <tr>\n",
       "      <th>7</th>\n",
       "      <td>148</td>\n",
       "    </tr>\n",
       "    <tr>\n",
       "      <th>8</th>\n",
       "      <td>136</td>\n",
       "    </tr>\n",
       "    <tr>\n",
       "      <th>9</th>\n",
       "      <td>119</td>\n",
       "    </tr>\n",
       "    <tr>\n",
       "      <th>10</th>\n",
       "      <td>104</td>\n",
       "    </tr>\n",
       "    <tr>\n",
       "      <th>11</th>\n",
       "      <td>118</td>\n",
       "    </tr>\n",
       "    <tr>\n",
       "      <th>12</th>\n",
       "      <td>115</td>\n",
       "    </tr>\n",
       "    <tr>\n",
       "      <th>13</th>\n",
       "      <td>126</td>\n",
       "    </tr>\n",
       "    <tr>\n",
       "      <th>14</th>\n",
       "      <td>141</td>\n",
       "    </tr>\n",
       "    <tr>\n",
       "      <th>15</th>\n",
       "      <td>135</td>\n",
       "    </tr>\n",
       "    <tr>\n",
       "      <th>16</th>\n",
       "      <td>125</td>\n",
       "    </tr>\n",
       "    <tr>\n",
       "      <th>17</th>\n",
       "      <td>149</td>\n",
       "    </tr>\n",
       "    <tr>\n",
       "      <th>18</th>\n",
       "      <td>170</td>\n",
       "    </tr>\n",
       "    <tr>\n",
       "      <th>19</th>\n",
       "      <td>170</td>\n",
       "    </tr>\n",
       "    <tr>\n",
       "      <th>20</th>\n",
       "      <td>158</td>\n",
       "    </tr>\n",
       "    <tr>\n",
       "      <th>21</th>\n",
       "      <td>133</td>\n",
       "    </tr>\n",
       "    <tr>\n",
       "      <th>22</th>\n",
       "      <td>114</td>\n",
       "    </tr>\n",
       "    <tr>\n",
       "      <th>23</th>\n",
       "      <td>140</td>\n",
       "    </tr>\n",
       "    <tr>\n",
       "      <th>24</th>\n",
       "      <td>145</td>\n",
       "    </tr>\n",
       "    <tr>\n",
       "      <th>25</th>\n",
       "      <td>150</td>\n",
       "    </tr>\n",
       "    <tr>\n",
       "      <th>26</th>\n",
       "      <td>178</td>\n",
       "    </tr>\n",
       "    <tr>\n",
       "      <th>27</th>\n",
       "      <td>163</td>\n",
       "    </tr>\n",
       "    <tr>\n",
       "      <th>28</th>\n",
       "      <td>172</td>\n",
       "    </tr>\n",
       "    <tr>\n",
       "      <th>29</th>\n",
       "      <td>178</td>\n",
       "    </tr>\n",
       "    <tr>\n",
       "      <th>...</th>\n",
       "      <td>...</td>\n",
       "    </tr>\n",
       "    <tr>\n",
       "      <th>114</th>\n",
       "      <td>491</td>\n",
       "    </tr>\n",
       "    <tr>\n",
       "      <th>115</th>\n",
       "      <td>505</td>\n",
       "    </tr>\n",
       "    <tr>\n",
       "      <th>116</th>\n",
       "      <td>404</td>\n",
       "    </tr>\n",
       "    <tr>\n",
       "      <th>117</th>\n",
       "      <td>359</td>\n",
       "    </tr>\n",
       "    <tr>\n",
       "      <th>118</th>\n",
       "      <td>310</td>\n",
       "    </tr>\n",
       "    <tr>\n",
       "      <th>119</th>\n",
       "      <td>337</td>\n",
       "    </tr>\n",
       "    <tr>\n",
       "      <th>120</th>\n",
       "      <td>360</td>\n",
       "    </tr>\n",
       "    <tr>\n",
       "      <th>121</th>\n",
       "      <td>342</td>\n",
       "    </tr>\n",
       "    <tr>\n",
       "      <th>122</th>\n",
       "      <td>406</td>\n",
       "    </tr>\n",
       "    <tr>\n",
       "      <th>123</th>\n",
       "      <td>396</td>\n",
       "    </tr>\n",
       "    <tr>\n",
       "      <th>124</th>\n",
       "      <td>420</td>\n",
       "    </tr>\n",
       "    <tr>\n",
       "      <th>125</th>\n",
       "      <td>472</td>\n",
       "    </tr>\n",
       "    <tr>\n",
       "      <th>126</th>\n",
       "      <td>548</td>\n",
       "    </tr>\n",
       "    <tr>\n",
       "      <th>127</th>\n",
       "      <td>559</td>\n",
       "    </tr>\n",
       "    <tr>\n",
       "      <th>128</th>\n",
       "      <td>463</td>\n",
       "    </tr>\n",
       "    <tr>\n",
       "      <th>129</th>\n",
       "      <td>407</td>\n",
       "    </tr>\n",
       "    <tr>\n",
       "      <th>130</th>\n",
       "      <td>362</td>\n",
       "    </tr>\n",
       "    <tr>\n",
       "      <th>131</th>\n",
       "      <td>405</td>\n",
       "    </tr>\n",
       "    <tr>\n",
       "      <th>132</th>\n",
       "      <td>417</td>\n",
       "    </tr>\n",
       "    <tr>\n",
       "      <th>133</th>\n",
       "      <td>391</td>\n",
       "    </tr>\n",
       "    <tr>\n",
       "      <th>134</th>\n",
       "      <td>419</td>\n",
       "    </tr>\n",
       "    <tr>\n",
       "      <th>135</th>\n",
       "      <td>461</td>\n",
       "    </tr>\n",
       "    <tr>\n",
       "      <th>136</th>\n",
       "      <td>472</td>\n",
       "    </tr>\n",
       "    <tr>\n",
       "      <th>137</th>\n",
       "      <td>535</td>\n",
       "    </tr>\n",
       "    <tr>\n",
       "      <th>138</th>\n",
       "      <td>622</td>\n",
       "    </tr>\n",
       "    <tr>\n",
       "      <th>139</th>\n",
       "      <td>606</td>\n",
       "    </tr>\n",
       "    <tr>\n",
       "      <th>140</th>\n",
       "      <td>508</td>\n",
       "    </tr>\n",
       "    <tr>\n",
       "      <th>141</th>\n",
       "      <td>461</td>\n",
       "    </tr>\n",
       "    <tr>\n",
       "      <th>142</th>\n",
       "      <td>390</td>\n",
       "    </tr>\n",
       "    <tr>\n",
       "      <th>143</th>\n",
       "      <td>432</td>\n",
       "    </tr>\n",
       "  </tbody>\n",
       "</table>\n",
       "<p>144 rows × 1 columns</p>\n",
       "</div>"
      ],
      "text/plain": [
       "     International airline passengers: monthly totals in thousands. Jan 49 ? Dec 60\n",
       "0                                                  112                             \n",
       "1                                                  118                             \n",
       "2                                                  132                             \n",
       "3                                                  129                             \n",
       "4                                                  121                             \n",
       "5                                                  135                             \n",
       "6                                                  148                             \n",
       "7                                                  148                             \n",
       "8                                                  136                             \n",
       "9                                                  119                             \n",
       "10                                                 104                             \n",
       "11                                                 118                             \n",
       "12                                                 115                             \n",
       "13                                                 126                             \n",
       "14                                                 141                             \n",
       "15                                                 135                             \n",
       "16                                                 125                             \n",
       "17                                                 149                             \n",
       "18                                                 170                             \n",
       "19                                                 170                             \n",
       "20                                                 158                             \n",
       "21                                                 133                             \n",
       "22                                                 114                             \n",
       "23                                                 140                             \n",
       "24                                                 145                             \n",
       "25                                                 150                             \n",
       "26                                                 178                             \n",
       "27                                                 163                             \n",
       "28                                                 172                             \n",
       "29                                                 178                             \n",
       "..                                                 ...                             \n",
       "114                                                491                             \n",
       "115                                                505                             \n",
       "116                                                404                             \n",
       "117                                                359                             \n",
       "118                                                310                             \n",
       "119                                                337                             \n",
       "120                                                360                             \n",
       "121                                                342                             \n",
       "122                                                406                             \n",
       "123                                                396                             \n",
       "124                                                420                             \n",
       "125                                                472                             \n",
       "126                                                548                             \n",
       "127                                                559                             \n",
       "128                                                463                             \n",
       "129                                                407                             \n",
       "130                                                362                             \n",
       "131                                                405                             \n",
       "132                                                417                             \n",
       "133                                                391                             \n",
       "134                                                419                             \n",
       "135                                                461                             \n",
       "136                                                472                             \n",
       "137                                                535                             \n",
       "138                                                622                             \n",
       "139                                                606                             \n",
       "140                                                508                             \n",
       "141                                                461                             \n",
       "142                                                390                             \n",
       "143                                                432                             \n",
       "\n",
       "[144 rows x 1 columns]"
      ]
     },
     "execution_count": 219,
     "metadata": {},
     "output_type": "execute_result"
    }
   ],
   "source": [
    "dataframe"
   ]
  },
  {
   "cell_type": "markdown",
   "metadata": {},
   "source": [
    "#### 接下来需要将数据转换为浮点数数组以便后来送进神经网络进行学习"
   ]
  },
  {
   "cell_type": "code",
   "execution_count": 216,
   "metadata": {
    "collapsed": true
   },
   "outputs": [],
   "source": [
    "dataset=dataframe.values\n",
    "dataset=dataframe.astype('float32')"
   ]
  },
  {
   "cell_type": "code",
   "execution_count": 217,
   "metadata": {},
   "outputs": [
    {
     "data": {
      "text/plain": [
       "array([[112],\n",
       "       [118],\n",
       "       [132],\n",
       "       [129],\n",
       "       [121],\n",
       "       [135],\n",
       "       [148],\n",
       "       [148],\n",
       "       [136],\n",
       "       [119],\n",
       "       [104],\n",
       "       [118],\n",
       "       [115],\n",
       "       [126],\n",
       "       [141],\n",
       "       [135],\n",
       "       [125],\n",
       "       [149],\n",
       "       [170],\n",
       "       [170],\n",
       "       [158],\n",
       "       [133],\n",
       "       [114],\n",
       "       [140],\n",
       "       [145],\n",
       "       [150],\n",
       "       [178],\n",
       "       [163],\n",
       "       [172],\n",
       "       [178],\n",
       "       [199],\n",
       "       [199],\n",
       "       [184],\n",
       "       [162],\n",
       "       [146],\n",
       "       [166],\n",
       "       [171],\n",
       "       [180],\n",
       "       [193],\n",
       "       [181],\n",
       "       [183],\n",
       "       [218],\n",
       "       [230],\n",
       "       [242],\n",
       "       [209],\n",
       "       [191],\n",
       "       [172],\n",
       "       [194],\n",
       "       [196],\n",
       "       [196],\n",
       "       [236],\n",
       "       [235],\n",
       "       [229],\n",
       "       [243],\n",
       "       [264],\n",
       "       [272],\n",
       "       [237],\n",
       "       [211],\n",
       "       [180],\n",
       "       [201],\n",
       "       [204],\n",
       "       [188],\n",
       "       [235],\n",
       "       [227],\n",
       "       [234],\n",
       "       [264],\n",
       "       [302],\n",
       "       [293],\n",
       "       [259],\n",
       "       [229],\n",
       "       [203],\n",
       "       [229],\n",
       "       [242],\n",
       "       [233],\n",
       "       [267],\n",
       "       [269],\n",
       "       [270],\n",
       "       [315],\n",
       "       [364],\n",
       "       [347],\n",
       "       [312],\n",
       "       [274],\n",
       "       [237],\n",
       "       [278],\n",
       "       [284],\n",
       "       [277],\n",
       "       [317],\n",
       "       [313],\n",
       "       [318],\n",
       "       [374],\n",
       "       [413],\n",
       "       [405],\n",
       "       [355],\n",
       "       [306],\n",
       "       [271],\n",
       "       [306],\n",
       "       [315],\n",
       "       [301],\n",
       "       [356],\n",
       "       [348],\n",
       "       [355],\n",
       "       [422],\n",
       "       [465],\n",
       "       [467],\n",
       "       [404],\n",
       "       [347],\n",
       "       [305],\n",
       "       [336],\n",
       "       [340],\n",
       "       [318],\n",
       "       [362],\n",
       "       [348],\n",
       "       [363],\n",
       "       [435],\n",
       "       [491],\n",
       "       [505],\n",
       "       [404],\n",
       "       [359],\n",
       "       [310],\n",
       "       [337],\n",
       "       [360],\n",
       "       [342],\n",
       "       [406],\n",
       "       [396],\n",
       "       [420],\n",
       "       [472],\n",
       "       [548],\n",
       "       [559],\n",
       "       [463],\n",
       "       [407],\n",
       "       [362],\n",
       "       [405],\n",
       "       [417],\n",
       "       [391],\n",
       "       [419],\n",
       "       [461],\n",
       "       [472],\n",
       "       [535],\n",
       "       [622],\n",
       "       [606],\n",
       "       [508],\n",
       "       [461],\n",
       "       [390],\n",
       "       [432]])"
      ]
     },
     "execution_count": 217,
     "metadata": {},
     "output_type": "execute_result"
    }
   ],
   "source": [
    "dataset"
   ]
  },
  {
   "cell_type": "code",
   "execution_count": 27,
   "metadata": {},
   "outputs": [
    {
     "data": {
      "text/plain": [
       "(144, 1)"
      ]
     },
     "execution_count": 27,
     "metadata": {},
     "output_type": "execute_result"
    }
   ],
   "source": [
    "dataset.shape"
   ]
  },
  {
   "cell_type": "markdown",
   "metadata": {},
   "source": [
    "#### 这里可以将数据展示一下"
   ]
  },
  {
   "cell_type": "code",
   "execution_count": 28,
   "metadata": {},
   "outputs": [
    {
     "data": {
      "image/png": "[encoded data removed]",
      "text/plain": [
       "<Figure size 432x288 with 1 Axes>"
      ]
     },
     "metadata": {},
     "output_type": "display_data"
    }
   ],
   "source": [
    "import matplotlib.pyplot as plt\n",
    "plt.plot(dataset)\n",
    "plt.show()"
   ]
  },
  {
   "cell_type": "markdown",
   "metadata": {},
   "source": [
    "#### 从上图中我们可以看出，乘客数目还是有一定的规律每年也有高峰期和低峰期"
   ]
  },
  {
   "cell_type": "markdown",
   "metadata": {},
   "source": [
    "### 接下来就是重中之重对数据进行划分和操作了，首先是标准化数据，并将数据划分为训练集、验证集合测试集神经网络对数据很敏感，神经网络喜欢小数据特别使用sigmoid或者tanh激活函数时候，所以我们将数据调整到0到1的范围（标准化）是最好的做法"
   ]
  },
  {
   "cell_type": "code",
   "execution_count": 30,
   "metadata": {},
   "outputs": [
    {
     "name": "stderr",
     "output_type": "stream",
     "text": [
      "/anaconda3/lib/python3.6/site-packages/sklearn/preprocessing/data.py:323: DataConversionWarning: Data with input dtype float32 were all converted to float64 by MinMaxScaler.\n",
      "  return self.partial_fit(X, y)\n"
     ]
    }
   ],
   "source": [
    "from sklearn.preprocessing import MinMaxScaler\n",
    "scaler=MinMaxScaler(feature_range=(0,1))#使用sklearn工具将属性缩放到(0,1)之间的值\n",
    "dataset=scaler.fit_transform(dataset)"
   ]
  },
  {
   "cell_type": "code",
   "execution_count": 36,
   "metadata": {},
   "outputs": [
    {
     "data": {
      "text/plain": [
       "array([[0.01544402],\n",
       "       [0.02702703],\n",
       "       [0.05405405],\n",
       "       [0.04826255],\n",
       "       [0.03281853],\n",
       "       [0.05984556],\n",
       "       [0.08494208],\n",
       "       [0.08494208],\n",
       "       [0.06177606],\n",
       "       [0.02895753],\n",
       "       [0.        ],\n",
       "       [0.02702703],\n",
       "       [0.02123552],\n",
       "       [0.04247104],\n",
       "       [0.07142857],\n",
       "       [0.05984556],\n",
       "       [0.04054054],\n",
       "       [0.08687259],\n",
       "       [0.12741313],\n",
       "       [0.12741313],\n",
       "       [0.1042471 ],\n",
       "       [0.05598456],\n",
       "       [0.01930502],\n",
       "       [0.06949807],\n",
       "       [0.07915058],\n",
       "       [0.08880309],\n",
       "       [0.14285714],\n",
       "       [0.11389961],\n",
       "       [0.13127413],\n",
       "       [0.14285714],\n",
       "       [0.18339768],\n",
       "       [0.18339768],\n",
       "       [0.15444015],\n",
       "       [0.11196911],\n",
       "       [0.08108108],\n",
       "       [0.11969112],\n",
       "       [0.12934363],\n",
       "       [0.14671815],\n",
       "       [0.17181467],\n",
       "       [0.14864865],\n",
       "       [0.15250965],\n",
       "       [0.22007722],\n",
       "       [0.24324324],\n",
       "       [0.26640927],\n",
       "       [0.2027027 ],\n",
       "       [0.16795367],\n",
       "       [0.13127413],\n",
       "       [0.17374517],\n",
       "       [0.17760618],\n",
       "       [0.17760618],\n",
       "       [0.25482625],\n",
       "       [0.25289575],\n",
       "       [0.24131274],\n",
       "       [0.26833977],\n",
       "       [0.30888031],\n",
       "       [0.32432432],\n",
       "       [0.25675676],\n",
       "       [0.20656371],\n",
       "       [0.14671815],\n",
       "       [0.18725869],\n",
       "       [0.19305019],\n",
       "       [0.16216216],\n",
       "       [0.25289575],\n",
       "       [0.23745174],\n",
       "       [0.25096525],\n",
       "       [0.30888031],\n",
       "       [0.38223938],\n",
       "       [0.36486486],\n",
       "       [0.2992278 ],\n",
       "       [0.24131274],\n",
       "       [0.19111969],\n",
       "       [0.24131274],\n",
       "       [0.26640927],\n",
       "       [0.24903475],\n",
       "       [0.31467181],\n",
       "       [0.31853282],\n",
       "       [0.32046332],\n",
       "       [0.40733591],\n",
       "       [0.5019305 ],\n",
       "       [0.46911197],\n",
       "       [0.4015444 ],\n",
       "       [0.32818533],\n",
       "       [0.25675676],\n",
       "       [0.33590734],\n",
       "       [0.34749035],\n",
       "       [0.33397683],\n",
       "       [0.41119691],\n",
       "       [0.4034749 ],\n",
       "       [0.41312741],\n",
       "       [0.52123552],\n",
       "       [0.5965251 ],\n",
       "       [0.58108108],\n",
       "       [0.48455598],\n",
       "       [0.38996139],\n",
       "       [0.32239382],\n",
       "       [0.38996139],\n",
       "       [0.40733591],\n",
       "       [0.38030888],\n",
       "       [0.48648649],\n",
       "       [0.47104247],\n",
       "       [0.48455598],\n",
       "       [0.61389961],\n",
       "       [0.6969112 ],\n",
       "       [0.7007722 ],\n",
       "       [0.57915058],\n",
       "       [0.46911197],\n",
       "       [0.38803089],\n",
       "       [0.44787645],\n",
       "       [0.45559846],\n",
       "       [0.41312741],\n",
       "       [0.4980695 ],\n",
       "       [0.47104247],\n",
       "       [0.5       ],\n",
       "       [0.63899614],\n",
       "       [0.74710425],\n",
       "       [0.77413127],\n",
       "       [0.57915058],\n",
       "       [0.49227799],\n",
       "       [0.3976834 ],\n",
       "       [0.44980695],\n",
       "       [0.49420849],\n",
       "       [0.45945946],\n",
       "       [0.58301158],\n",
       "       [0.56370656],\n",
       "       [0.61003861],\n",
       "       [0.71042471],\n",
       "       [0.85714286],\n",
       "       [0.87837838],\n",
       "       [0.69305019],\n",
       "       [0.58494208],\n",
       "       [0.4980695 ],\n",
       "       [0.58108108],\n",
       "       [0.6042471 ],\n",
       "       [0.55405405],\n",
       "       [0.60810811],\n",
       "       [0.68918919],\n",
       "       [0.71042471],\n",
       "       [0.83204633],\n",
       "       [1.        ],\n",
       "       [0.96911197],\n",
       "       [0.77992278],\n",
       "       [0.68918919],\n",
       "       [0.55212355],\n",
       "       [0.63320463]])"
      ]
     },
     "execution_count": 36,
     "metadata": {},
     "output_type": "execute_result"
    }
   ],
   "source": [
    "dataset#可以看出数据已经缩放到0-1之间了"
   ]
  },
  {
   "cell_type": "code",
   "execution_count": 47,
   "metadata": {},
   "outputs": [
    {
     "data": {
      "text/plain": [
       "(1,)"
      ]
     },
     "execution_count": 47,
     "metadata": {},
     "output_type": "execute_result"
    }
   ],
   "source": [
    "dataset[0:1,0].shape"
   ]
  },
  {
   "cell_type": "markdown",
   "metadata": {},
   "source": [
    "#### 接下来按照黄金比例进行数据划分，这里将67%的数据作为训练数据，剩下的33%作为测试数据"
   ]
  },
  {
   "cell_type": "code",
   "execution_count": 172,
   "metadata": {
    "collapsed": true
   },
   "outputs": [],
   "source": [
    "train_size=int(len(dataset)*0.67)\n",
    "test_size=len(dataset)-train_size\n",
    "train,test=dataset[0:train_size,:],dataset[train_size:len(dataset),:]"
   ]
  },
  {
   "cell_type": "markdown",
   "metadata": {},
   "source": [
    "#### 我们将数据打出来看看"
   ]
  },
  {
   "cell_type": "code",
   "execution_count": 183,
   "metadata": {},
   "outputs": [
    {
     "data": {
      "text/plain": [
       "((96, 1), (48, 1))"
      ]
     },
     "execution_count": 183,
     "metadata": {},
     "output_type": "execute_result"
    }
   ],
   "source": [
    "train.shape,test.shape"
   ]
  },
  {
   "cell_type": "code",
   "execution_count": 39,
   "metadata": {},
   "outputs": [
    {
     "data": {
      "text/plain": [
       "((96, 1), (48, 1))"
      ]
     },
     "execution_count": 39,
     "metadata": {},
     "output_type": "execute_result"
    }
   ],
   "source": [
    "train.shape,test.shape"
   ]
  },
  {
   "cell_type": "markdown",
   "metadata": {},
   "source": [
    "### 接下来我们定义生成样本的函数，将数据存储为两个矩阵，一个矩阵的ind位置存储t时刻的值，另一个矩阵存储t+1时刻的值"
   ]
  },
  {
   "cell_type": "code",
   "execution_count": 48,
   "metadata": {
    "collapsed": true
   },
   "outputs": [],
   "source": [
    "import numpy as np\n",
    "def create_dataset(dataset,look_back=1):\n",
    "    dataX,dataY=[],[]\n",
    "    for i in range(len(dataset)-look_back-1):\n",
    "        dataX.append(dataset[i:(i+look_back),0])\n",
    "        dataY.append(dataset[i+look_back,0])\n",
    "    return np.array(dataX),np.array(dataY)"
   ]
  },
  {
   "cell_type": "markdown",
   "metadata": {},
   "source": [
    "#### 这里说明一下怎么划分数据，这里是基于历史数据预测下一个时刻的数据，这里需要决定每次依赖多少历史数据，这里设置参数look_back=1设置的历史数据为1，也就是基于前一个月数据预测下一个月份的数据。这里我们以前一个月的值预测下一个月的乘客数，预测下一个月的值会有偏差，当然这也是是我们神经网络要做的，后面我们会用均方根误差来衡量模型真实输出和这个值得差距。但是测试数据没有必要这样划分，因为他不需要标签，这里分的意思是利用分到的标签用于计算模型在测试数据上的均值根误差"
   ]
  },
  {
   "cell_type": "code",
   "execution_count": 49,
   "metadata": {
    "collapsed": true
   },
   "outputs": [],
   "source": [
    "look_back=1\n",
    "trainX,trainY=create_dataset(train,look_back)\n",
    "testX,testY=create_dataset(test,look_back)"
   ]
  },
  {
   "cell_type": "code",
   "execution_count": 53,
   "metadata": {},
   "outputs": [
    {
     "data": {
      "text/plain": [
       "((94, 1), (46, 1))"
      ]
     },
     "execution_count": 53,
     "metadata": {},
     "output_type": "execute_result"
    }
   ],
   "source": [
    "trainX.shape,testX.shape"
   ]
  },
  {
   "cell_type": "markdown",
   "metadata": {},
   "source": [
    "#### 接下来也非常关键因为神经网络对输入尺寸要求非常严格，我们必须调整数据尺寸后才能送进神经网络进行计算，对于LSTM要求的固定格式是[samples,time_steps,features]，所以我们必须把数据调整成这样的格式:samples表示的是样本数，time_steps是时间序列，features是样本的特征，这里我们做如下的调整。"
   ]
  },
  {
   "cell_type": "code",
   "execution_count": 54,
   "metadata": {
    "collapsed": true
   },
   "outputs": [],
   "source": [
    "trainX=np.reshape(trainX,(trainX.shape[0],1,trainX.shape[1]))\n",
    "testX=np.reshape(testX,(testX.shape[0],1,testX.shape[1]))"
   ]
  },
  {
   "cell_type": "code",
   "execution_count": 55,
   "metadata": {},
   "outputs": [
    {
     "data": {
      "text/plain": [
       "((94, 1, 1), (46, 1, 1))"
      ]
     },
     "execution_count": 55,
     "metadata": {},
     "output_type": "execute_result"
    }
   ],
   "source": [
    "trainX.shape,testX.shape"
   ]
  },
  {
   "cell_type": "markdown",
   "metadata": {},
   "source": [
    "### 接下来就是构建模型，这里使用LSTM(短时期记忆网络)"
   ]
  },
  {
   "cell_type": "code",
   "execution_count": 209,
   "metadata": {
    "collapsed": true
   },
   "outputs": [],
   "source": [
    "from keras.models import Sequential \n",
    "from keras.layers import Dense \n",
    "from keras.layers import LSTM \n",
    "from keras.utils import plot_model \n",
    "from IPython.display import SVG \n",
    "from keras.utils.vis_utils import model_to_dot \n",
    "from keras.layers import GRU,Bidirectional\n",
    "from keras.optimizers import RMSprop"
   ]
  },
  {
   "cell_type": "code",
   "execution_count": 210,
   "metadata": {},
   "outputs": [],
   "source": [
    "# 构建LSTM网络结构\n",
    "model=Sequential()\n",
    "model.add(LSTM(8,input_shape=(1,look_back)))\n",
    "model.add(Dense(1))"
   ]
  },
  {
   "cell_type": "markdown",
   "metadata": {},
   "source": [
    "#### 这里编译损失函数采用mse，经过实测采用mse的效果要好于mae的效果"
   ]
  },
  {
   "cell_type": "code",
   "execution_count": 211,
   "metadata": {
    "collapsed": true
   },
   "outputs": [],
   "source": [
    "model.compile(loss='mean_squared_error',optimizer=RMSprop())"
   ]
  },
  {
   "cell_type": "markdown",
   "metadata": {},
   "source": [
    "#### 这里将模型结构和规模可视化一下"
   ]
  },
  {
   "cell_type": "code",
   "execution_count": 212,
   "metadata": {},
   "outputs": [
    {
     "name": "stdout",
     "output_type": "stream",
     "text": [
      "_________________________________________________________________\n",
      "Layer (type)                 Output Shape              Param #   \n",
      "=================================================================\n",
      "lstm_9 (LSTM)                (None, 8)                 320       \n",
      "_________________________________________________________________\n",
      "dense_12 (Dense)             (None, 1)                 9         \n",
      "=================================================================\n",
      "Total params: 329\n",
      "Trainable params: 329\n",
      "Non-trainable params: 0\n",
      "_________________________________________________________________\n"
     ]
    }
   ],
   "source": [
    "model.summary()"
   ]
  },
  {
   "cell_type": "code",
   "execution_count": 213,
   "metadata": {},
   "outputs": [],
   "source": [
    "from keras.utils import plot_model\n",
    "plot_model(model,to_file='lstm.png',show_shapes=True)"
   ]
  },
  {
   "cell_type": "code",
   "execution_count": 214,
   "metadata": {},
   "outputs": [
    {
     "data": {
      "image/png": "[encoded data removed]",
      "text/plain": [
       "<IPython.core.display.Image object>"
      ]
     },
     "execution_count": 214,
     "metadata": {},
     "output_type": "execute_result"
    }
   ],
   "source": [
    "from IPython.display import Image\n",
    "Image(filename=\"lstm.png\")"
   ]
  },
  {
   "cell_type": "markdown",
   "metadata": {},
   "source": [
    "#### 从上图可以看出模型还是非常小的，下面开始训练模型"
   ]
  },
  {
   "cell_type": "code",
   "execution_count": 215,
   "metadata": {},
   "outputs": [
    {
     "name": "stdout",
     "output_type": "stream",
     "text": [
      "Epoch 1/50\n",
      "94/94 [==============================] - 2s 18ms/step - loss: 0.0439\n",
      "Epoch 2/50\n",
      "94/94 [==============================] - 0s 3ms/step - loss: 0.0204\n",
      "Epoch 3/50\n",
      "94/94 [==============================] - 0s 3ms/step - loss: 0.0159\n",
      "Epoch 4/50\n",
      "94/94 [==============================] - 0s 2ms/step - loss: 0.0142\n",
      "Epoch 5/50\n",
      "94/94 [==============================] - 0s 3ms/step - loss: 0.0127\n",
      "Epoch 6/50\n",
      "94/94 [==============================] - 0s 3ms/step - loss: 0.0114\n",
      "Epoch 7/50\n",
      "94/94 [==============================] - 0s 2ms/step - loss: 0.0102\n",
      "Epoch 8/50\n",
      "94/94 [==============================] - 0s 2ms/step - loss: 0.0092\n",
      "Epoch 9/50\n",
      "94/94 [==============================] - 0s 3ms/step - loss: 0.0082\n",
      "Epoch 10/50\n",
      "94/94 [==============================] - 0s 2ms/step - loss: 0.0071\n",
      "Epoch 11/50\n",
      "94/94 [==============================] - 0s 2ms/step - loss: 0.0062\n",
      "Epoch 12/50\n",
      "94/94 [==============================] - 0s 3ms/step - loss: 0.0054\n",
      "Epoch 13/50\n",
      "94/94 [==============================] - 0s 3ms/step - loss: 0.0047\n",
      "Epoch 14/50\n",
      "94/94 [==============================] - 0s 2ms/step - loss: 0.0040\n",
      "Epoch 15/50\n",
      "94/94 [==============================] - 0s 2ms/step - loss: 0.0033\n",
      "Epoch 16/50\n",
      "94/94 [==============================] - 0s 3ms/step - loss: 0.0029\n",
      "Epoch 17/50\n",
      "94/94 [==============================] - 0s 3ms/step - loss: 0.0026\n",
      "Epoch 18/50\n",
      "94/94 [==============================] - 0s 3ms/step - loss: 0.0024\n",
      "Epoch 19/50\n",
      "94/94 [==============================] - 0s 3ms/step - loss: 0.0023\n",
      "Epoch 20/50\n",
      "94/94 [==============================] - 0s 3ms/step - loss: 0.0022\n",
      "Epoch 21/50\n",
      "94/94 [==============================] - 0s 3ms/step - loss: 0.0021\n",
      "Epoch 22/50\n",
      "94/94 [==============================] - 0s 3ms/step - loss: 0.0021\n",
      "Epoch 23/50\n",
      "94/94 [==============================] - 0s 3ms/step - loss: 0.0020\n",
      "Epoch 24/50\n",
      "94/94 [==============================] - 0s 2ms/step - loss: 0.0021\n",
      "Epoch 25/50\n",
      "94/94 [==============================] - 0s 3ms/step - loss: 0.0020\n",
      "Epoch 26/50\n",
      "94/94 [==============================] - 0s 3ms/step - loss: 0.0020\n",
      "Epoch 27/50\n",
      "94/94 [==============================] - 0s 3ms/step - loss: 0.0020\n",
      "Epoch 28/50\n",
      "94/94 [==============================] - 0s 2ms/step - loss: 0.0020\n",
      "Epoch 29/50\n",
      "94/94 [==============================] - 0s 2ms/step - loss: 0.0020\n",
      "Epoch 30/50\n",
      "94/94 [==============================] - 0s 3ms/step - loss: 0.0021\n",
      "Epoch 31/50\n",
      "94/94 [==============================] - 0s 3ms/step - loss: 0.0021\n",
      "Epoch 32/50\n",
      "94/94 [==============================] - 0s 3ms/step - loss: 0.0020\n",
      "Epoch 33/50\n",
      "94/94 [==============================] - 0s 3ms/step - loss: 0.0021\n",
      "Epoch 34/50\n",
      "94/94 [==============================] - 0s 3ms/step - loss: 0.0020\n",
      "Epoch 35/50\n",
      "94/94 [==============================] - 0s 3ms/step - loss: 0.0021\n",
      "Epoch 36/50\n",
      "94/94 [==============================] - 0s 3ms/step - loss: 0.0020\n",
      "Epoch 37/50\n",
      "94/94 [==============================] - 0s 3ms/step - loss: 0.0020\n",
      "Epoch 38/50\n",
      "94/94 [==============================] - 0s 3ms/step - loss: 0.0020\n",
      "Epoch 39/50\n",
      "94/94 [==============================] - 0s 2ms/step - loss: 0.0021\n",
      "Epoch 40/50\n",
      "94/94 [==============================] - 0s 2ms/step - loss: 0.0020\n",
      "Epoch 41/50\n",
      "94/94 [==============================] - 0s 3ms/step - loss: 0.0021\n",
      "Epoch 42/50\n",
      "94/94 [==============================] - 0s 3ms/step - loss: 0.0020\n",
      "Epoch 43/50\n",
      "94/94 [==============================] - 0s 3ms/step - loss: 0.0020\n",
      "Epoch 44/50\n",
      "94/94 [==============================] - 0s 3ms/step - loss: 0.0020\n",
      "Epoch 45/50\n",
      "94/94 [==============================] - 0s 3ms/step - loss: 0.0020\n",
      "Epoch 46/50\n",
      "94/94 [==============================] - 0s 3ms/step - loss: 0.0020\n",
      "Epoch 47/50\n",
      "94/94 [==============================] - 0s 3ms/step - loss: 0.0020\n",
      "Epoch 48/50\n",
      "94/94 [==============================] - 0s 3ms/step - loss: 0.0020\n",
      "Epoch 49/50\n",
      "94/94 [==============================] - 0s 3ms/step - loss: 0.0021\n",
      "Epoch 50/50\n",
      "94/94 [==============================] - 0s 3ms/step - loss: 0.0020\n"
     ]
    }
   ],
   "source": [
    "history=model.fit(trainX,trainY,epochs=50,batch_size=1,verbose=1)"
   ]
  },
  {
   "cell_type": "markdown",
   "metadata": {},
   "source": [
    "#### 这里将训练曲线可视化一下"
   ]
  },
  {
   "cell_type": "code",
   "execution_count": 125,
   "metadata": {
    "collapsed": true
   },
   "outputs": [],
   "source": [
    "def draw_roc(history):\n",
    "    train_loss=history.history['loss']\n",
    "    epochs=range(0,len(train_loss))\n",
    "    plt.figure()\n",
    "    plt.title(\"Training Loss\")\n",
    "    plt.plot(epochs,train_loss,'r',label='loss')\n",
    "    plt.legend()\n",
    "    plt.show()"
   ]
  },
  {
   "cell_type": "code",
   "execution_count": 126,
   "metadata": {},
   "outputs": [
    {
     "data": {
      "image/png": "[encoded data removed]",
      "text/plain": [
       "<Figure size 432x288 with 1 Axes>"
      ]
     },
     "metadata": {},
     "output_type": "display_data"
    }
   ],
   "source": [
    "draw_roc(history)"
   ]
  },
  {
   "cell_type": "markdown",
   "metadata": {},
   "source": [
    "#### 从训练曲线可以看出模型在30次后损失函数就不再下降了，所以我们可以降低迭代次数"
   ]
  },
  {
   "cell_type": "markdown",
   "metadata": {},
   "source": [
    "### 接下来我们看看模型的具体结果"
   ]
  },
  {
   "cell_type": "code",
   "execution_count": 142,
   "metadata": {
    "collapsed": true
   },
   "outputs": [],
   "source": [
    "trainPredict=model.predict(trainX)\n",
    "testPredict=model.predict(testX)"
   ]
  },
  {
   "cell_type": "code",
   "execution_count": 143,
   "metadata": {
    "collapsed": true
   },
   "outputs": [
    {
     "data": {
      "text/plain": [
       "array([[0.03904074],\n",
       "       [0.04843372],\n",
       "       [0.07077863],\n",
       "       [0.06594109],\n",
       "       [0.05317204],\n",
       "       [0.07564246],\n",
       "       [0.09701464],\n",
       "       [0.09701464],\n",
       "       [0.07726952],\n",
       "       [0.05001009],\n",
       "       [0.02669388],\n",
       "       [0.04843372],\n",
       "       [0.04372317],\n",
       "       [0.06113018],\n",
       "       [0.08544765],\n",
       "       [0.07564246],\n",
       "       [0.05953252],\n",
       "       [0.09867802],\n",
       "       [0.13421308],\n",
       "       [0.13421308],\n",
       "       [0.11376866],\n",
       "       [0.072397  ],\n",
       "       [0.04215922],\n",
       "       [0.08380637],\n",
       "       [0.09204078],\n",
       "       [0.10034412],\n",
       "       [0.14803733],\n",
       "       [0.12224335],\n",
       "       [0.13765496],\n",
       "       [0.14803733],\n",
       "       [0.18500677],\n",
       "       [0.18500677],\n",
       "       [0.1585025 ],\n",
       "       [0.12054335],\n",
       "       [0.093696  ],\n",
       "       [0.12735844],\n",
       "       [0.13593282],\n",
       "       [0.15151668],\n",
       "       [0.17434855],\n",
       "       [0.15325975],\n",
       "       [0.1567527 ],\n",
       "       [0.21921435],\n",
       "       [0.2411417 ],\n",
       "       [0.26328713],\n",
       "       [0.20292792],\n",
       "       [0.1708123 ],\n",
       "       [0.13765496],\n",
       "       [0.1761198 ],\n",
       "       [0.17966852],\n",
       "       [0.17966852],\n",
       "       [0.25218883],\n",
       "       [0.250344  ],\n",
       "       [0.23930576],\n",
       "       [0.2651416 ],\n",
       "       [0.30436522],\n",
       "       [0.3194305 ],\n",
       "       [0.25403512],\n",
       "       [0.20653465],\n",
       "       [0.15151668],\n",
       "       [0.18857557],\n",
       "       [0.19394344],\n",
       "       [0.16552371],\n",
       "       [0.250344  ],\n",
       "       [0.23563838],\n",
       "       [0.24850059],\n",
       "       [0.30436522],\n",
       "       [0.37636295],\n",
       "       [0.35922396],\n",
       "       [0.29498127],\n",
       "       [0.23930576],\n",
       "       [0.1921522 ],\n",
       "       [0.23930576],\n",
       "       [0.26328713],\n",
       "       [0.24665865],\n",
       "       [0.3100077 ],\n",
       "       [0.31377408],\n",
       "       [0.31565863],\n",
       "       [0.40117982],\n",
       "       [0.49488965],\n",
       "       [0.4623991 ],\n",
       "       [0.39544782],\n",
       "       [0.32320592],\n",
       "       [0.25403512],\n",
       "       [0.3307667 ],\n",
       "       [0.34213114],\n",
       "       [0.32887527],\n",
       "       [0.40500247],\n",
       "       [0.39735818],\n",
       "       [0.4069142 ],\n",
       "       [0.51396036],\n",
       "       [0.58782536],\n",
       "       [0.57275605],\n",
       "       [0.47769728],\n",
       "       [0.38399234]], dtype=float32)"
      ]
     },
     "execution_count": 143,
     "metadata": {},
     "output_type": "execute_result"
    }
   ],
   "source": [
    "trainPredict"
   ]
  },
  {
   "cell_type": "markdown",
   "metadata": {},
   "source": [
    "#### 上面的预测值都是[0,1]这样的标准化数据，我们需要将它们转换为原始值，这里使用inverse_transform这个API"
   ]
  },
  {
   "cell_type": "code",
   "execution_count": 155,
   "metadata": {
    "collapsed": true
   },
   "outputs": [],
   "source": [
    "trainPredict_real=scaler.inverse_transform(trainPredict)\n",
    "testPredict_real=scaler.inverse_transform(testPredict)"
   ]
  },
  {
   "cell_type": "code",
   "execution_count": 156,
   "metadata": {},
   "outputs": [
    {
     "data": {
      "text/plain": [
       "array([[124.22311 ],\n",
       "       [129.08867 ],\n",
       "       [140.66333 ],\n",
       "       [138.15749 ],\n",
       "       [131.54312 ],\n",
       "       [143.1828  ],\n",
       "       [154.25359 ],\n",
       "       [154.25359 ],\n",
       "       [144.0256  ],\n",
       "       [129.90523 ],\n",
       "       [117.82744 ],\n",
       "       [129.08867 ],\n",
       "       [126.648605],\n",
       "       [135.66544 ],\n",
       "       [148.26189 ],\n",
       "       [143.1828  ],\n",
       "       [134.83784 ],\n",
       "       [155.11522 ],\n",
       "       [173.52238 ],\n",
       "       [173.52238 ],\n",
       "       [162.93216 ],\n",
       "       [141.50163 ],\n",
       "       [125.83848 ],\n",
       "       [147.4117  ],\n",
       "       [151.67712 ],\n",
       "       [155.97826 ],\n",
       "       [180.68333 ],\n",
       "       [167.32205 ],\n",
       "       [175.30527 ],\n",
       "       [180.68333 ],\n",
       "       [199.8335  ],\n",
       "       [199.8335  ],\n",
       "       [186.10431 ],\n",
       "       [166.44145 ],\n",
       "       [152.53453 ],\n",
       "       [169.97166 ],\n",
       "       [174.41321 ],\n",
       "       [182.48564 ],\n",
       "       [194.31255 ],\n",
       "       [183.38855 ],\n",
       "       [185.1979  ],\n",
       "       [217.55302 ],\n",
       "       [228.9114  ],\n",
       "       [240.38274 ],\n",
       "       [209.11665 ],\n",
       "       [192.48077 ],\n",
       "       [175.30527 ],\n",
       "       [195.23006 ],\n",
       "       [197.06828 ],\n",
       "       [197.06828 ],\n",
       "       [234.63382 ],\n",
       "       [233.67819 ],\n",
       "       [227.96039 ],\n",
       "       [241.34335 ],\n",
       "       [261.6612  ],\n",
       "       [269.465   ],\n",
       "       [235.5902  ],\n",
       "       [210.98495 ],\n",
       "       [182.48564 ],\n",
       "       [201.68214 ],\n",
       "       [204.4627  ],\n",
       "       [189.74127 ],\n",
       "       [233.67819 ],\n",
       "       [226.06068 ],\n",
       "       [232.7233  ],\n",
       "       [261.6612  ],\n",
       "       [298.956   ],\n",
       "       [290.07803 ],\n",
       "       [256.8003  ],\n",
       "       [227.96039 ],\n",
       "       [203.53484 ],\n",
       "       [227.96039 ],\n",
       "       [240.38274 ],\n",
       "       [231.76918 ],\n",
       "       [264.58398 ],\n",
       "       [266.53497 ],\n",
       "       [267.51117 ],\n",
       "       [311.81116 ],\n",
       "       [360.35284 ],\n",
       "       [343.52274 ],\n",
       "       [308.84198 ],\n",
       "       [271.42065 ],\n",
       "       [235.5902  ],\n",
       "       [275.33716 ],\n",
       "       [281.22394 ],\n",
       "       [274.3574  ],\n",
       "       [313.7913  ],\n",
       "       [309.83154 ],\n",
       "       [314.78156 ],\n",
       "       [370.23148 ],\n",
       "       [408.49356 ],\n",
       "       [400.68765 ],\n",
       "       [351.4472  ],\n",
       "       [302.90802 ]], dtype=float32)"
      ]
     },
     "execution_count": 156,
     "metadata": {},
     "output_type": "execute_result"
    }
   ],
   "source": [
    "trainPredict_real"
   ]
  },
  {
   "cell_type": "code",
   "execution_count": 157,
   "metadata": {},
   "outputs": [],
   "source": [
    "trainY_real=scaler.inverse_transform([trainY])\n",
    "testY_real=scaler.inverse_transform([testY])"
   ]
  },
  {
   "cell_type": "markdown",
   "metadata": {},
   "source": [
    "### 这里要计算出预测的均方根误差"
   ]
  },
  {
   "cell_type": "code",
   "execution_count": 158,
   "metadata": {},
   "outputs": [],
   "source": [
    "import math\n",
    "from sklearn.metrics import mean_squared_error \n",
    "trainScore=math.sqrt(mean_squared_error(trainY_real[0],trainPredict_real[:,0]))"
   ]
  },
  {
   "cell_type": "code",
   "execution_count": 159,
   "metadata": {},
   "outputs": [
    {
     "data": {
      "text/plain": [
       "22.98303780418869"
      ]
     },
     "execution_count": 159,
     "metadata": {},
     "output_type": "execute_result"
    }
   ],
   "source": [
    "trainScore"
   ]
  },
  {
   "cell_type": "code",
   "execution_count": 160,
   "metadata": {
    "collapsed": true
   },
   "outputs": [],
   "source": [
    "testScore=math.sqrt(mean_squared_error(testY_real[0],testPredict_real[:,0]))"
   ]
  },
  {
   "cell_type": "code",
   "execution_count": 161,
   "metadata": {},
   "outputs": [
    {
     "data": {
      "text/plain": [
       "48.01094086178077"
      ]
     },
     "execution_count": 161,
     "metadata": {},
     "output_type": "execute_result"
    }
   ],
   "source": [
    "testScore"
   ]
  },
  {
   "cell_type": "markdown",
   "metadata": {},
   "source": [
    "#### 下面将整个预测的结果可视化一下"
   ]
  },
  {
   "cell_type": "code",
   "execution_count": 162,
   "metadata": {
    "collapsed": true
   },
   "outputs": [],
   "source": [
    "trainPredictPlot=np.empty_like(dataset)\n",
    "trainPredictPlot[:,:]=np.nan\n",
    "trainPredictPlot[look_back:len(trainPredict_real)+look_back,:]=trainPredict_real"
   ]
  },
  {
   "cell_type": "code",
   "execution_count": 169,
   "metadata": {},
   "outputs": [],
   "source": [
    "#对测试数据也可视化一下\n",
    "testPredictPlot=np.empty_like(dataset)\n",
    "testPredictPlot[:,:]=np.nan\n",
    "testPredictPlot[len(trainPredict_real)+look_back:len(dataset)-3,:]=testPredict_real"
   ]
  },
  {
   "cell_type": "markdown",
   "metadata": {},
   "source": [
    "#### 显示图片"
   ]
  },
  {
   "cell_type": "code",
   "execution_count": 170,
   "metadata": {},
   "outputs": [
    {
     "data": {
      "image/png": "[encoded data removed]",
      "text/plain": [
       "<Figure size 432x288 with 1 Axes>"
      ]
     },
     "metadata": {},
     "output_type": "display_data"
    }
   ],
   "source": [
    "# 显示图片 \n",
    "plt.plot(scaler.inverse_transform(dataset),color='blue',label='Raw data') \n",
    "plt.plot(trainPredictPlot,color='red',label='Train process') \n",
    "plt.plot(testPredictPlot,color='green',label='Test process') \n",
    "plt.legend(loc='best')\n",
    "plt.show()"
   ]
  },
  {
   "cell_type": "markdown",
   "metadata": {},
   "source": [
    "#### 从上面的曲线我们可以看出模型的拟合能力还是很强的预测的值差距很小"
   ]
  },
  {
   "cell_type": "code",
   "execution_count": 174,
   "metadata": {},
   "outputs": [
    {
     "data": {
      "text/plain": [
       "array([0.63320463])"
      ]
     },
     "execution_count": 174,
     "metadata": {},
     "output_type": "execute_result"
    }
   ],
   "source": [
    "test[-1]"
   ]
  },
  {
   "cell_type": "markdown",
   "metadata": {},
   "source": [
    "#### 接下来就是预测一下数据，这里一定要将数据转换一下，数据怎么进神经网络的。要预测的数据也要怎么进神经网络"
   ]
  },
  {
   "cell_type": "code",
   "execution_count": 175,
   "metadata": {
    "collapsed": true
   },
   "outputs": [],
   "source": [
    "def model_predict(data):\n",
    "    predictX=np.reshape(data,(1,1,testX.shape[1]))\n",
    "    #预测得到标准化数据\n",
    "    featruePredict=model.predict(predictX)\n",
    "    #将标准化的数字转换为实际人数\n",
    "    featruePredict=scaler.inverse_transform(featruePredict)\n",
    "    return featruePredict"
   ]
  },
  {
   "cell_type": "code",
   "execution_count": 220,
   "metadata": {},
   "outputs": [
    {
     "data": {
      "text/plain": [
       "array([[416.5474]], dtype=float32)"
      ]
     },
     "execution_count": 220,
     "metadata": {},
     "output_type": "execute_result"
    }
   ],
   "source": [
    "model_predict(test[-1])"
   ]
  },
  {
   "cell_type": "code",
   "execution_count": 182,
   "metadata": {},
   "outputs": [
    {
     "data": {
      "text/plain": [
       "array([[1157.9958]], dtype=float32)"
      ]
     },
     "execution_count": 182,
     "metadata": {},
     "output_type": "execute_result"
    }
   ],
   "source": [
    "model_predict(np.array(432))"
   ]
  },
  {
   "cell_type": "code",
   "execution_count": 184,
   "metadata": {},
   "outputs": [
    {
     "data": {
      "text/plain": [
       "(48, 1)"
      ]
     },
     "execution_count": 184,
     "metadata": {},
     "output_type": "execute_result"
    }
   ],
   "source": [
    "test.shape"
   ]
  },
  {
   "cell_type": "code",
   "execution_count": 194,
   "metadata": {},
   "outputs": [],
   "source": [
    "test1=scaler.inverse_transform(test)"
   ]
  },
  {
   "cell_type": "code",
   "execution_count": 195,
   "metadata": {},
   "outputs": [
    {
     "data": {
      "text/plain": [
       "array([[315.],\n",
       "       [301.],\n",
       "       [356.],\n",
       "       [348.],\n",
       "       [355.],\n",
       "       [422.],\n",
       "       [465.],\n",
       "       [467.],\n",
       "       [404.],\n",
       "       [347.],\n",
       "       [305.],\n",
       "       [336.],\n",
       "       [340.],\n",
       "       [318.],\n",
       "       [362.],\n",
       "       [348.],\n",
       "       [363.],\n",
       "       [435.],\n",
       "       [491.],\n",
       "       [505.],\n",
       "       [404.],\n",
       "       [359.],\n",
       "       [310.],\n",
       "       [337.],\n",
       "       [360.],\n",
       "       [342.],\n",
       "       [406.],\n",
       "       [396.],\n",
       "       [420.],\n",
       "       [472.],\n",
       "       [548.],\n",
       "       [559.],\n",
       "       [463.],\n",
       "       [407.],\n",
       "       [362.],\n",
       "       [405.],\n",
       "       [417.],\n",
       "       [391.],\n",
       "       [419.],\n",
       "       [461.],\n",
       "       [472.],\n",
       "       [535.],\n",
       "       [622.],\n",
       "       [606.],\n",
       "       [508.],\n",
       "       [461.],\n",
       "       [390.],\n",
       "       [432.]])"
      ]
     },
     "execution_count": 195,
     "metadata": {},
     "output_type": "execute_result"
    }
   ],
   "source": [
    "test1"
   ]
  },
  {
   "cell_type": "code",
   "execution_count": null,
   "metadata": {
    "collapsed": true
   },
   "outputs": [],
   "source": []
  }
 ],
 "metadata": {
  "kernelspec": {
   "display_name": "Python 3",
   "language": "python",
   "name": "python3"
  },
  "language_info": {
   "codemirror_mode": {
    "name": "ipython",
    "version": 3
   },
   "file_extension": ".py",
   "mimetype": "text/x-python",
   "name": "python",
   "nbconvert_exporter": "python",
   "pygments_lexer": "ipython3",
   "version": "3.6.5"
  }
 },
 "nbformat": 4,
 "nbformat_minor": 2
}
